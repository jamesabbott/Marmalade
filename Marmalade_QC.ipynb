{
 "cells": [
  {
   "cell_type": "markdown",
   "metadata": {},
   "source": [
    "# Marmalade QC\n",
    "\n",
    "Data obtained via hard-disk shipped by Mike, and tarballs extracted into original_data directory. Write permissions have been removed form contents of this directory.\n",
    "\n",
    "## Validate files\n",
    "\n",
    "md5sums are provided in the manifest.csv files,but not formatted so that md5sum can use them directly, so a quick reshuffle is needed...\n"
   ]
  },
  {
   "cell_type": "code",
   "execution_count": 2,
   "metadata": {},
   "outputs": [],
   "source": [
    "import glob\n",
    "import subprocess\n",
    "import sys"
   ]
  },
  {
   "cell_type": "code",
   "execution_count": 3,
   "metadata": {},
   "outputs": [
    {
     "name": "stdout",
     "output_type": "stream",
     "text": [
      "original_data/IGFQ000535_hoyles_12-6-2018_wgs-metagenomics/IGF109742/Mock2_S1_L004_R1_001.fastq.gz: OK\n",
      "original_data/IGFQ000535_hoyles_12-6-2018_wgs-metagenomics/IGF109742/Mock2_S1_L004_R2_001.fastq.gz: OK\n",
      "original_data/IGFQ000535_hoyles_12-6-2018_wgs-metagenomics/IGF109743/Mock3_S1_L005_R1_001.fastq.gz: OK\n",
      "original_data/IGFQ000535_hoyles_12-6-2018_wgs-metagenomics/IGF109743/Mock3_S1_L005_R2_001.fastq.gz: OK\n",
      "original_data/IGFQ000535_hoyles_12-6-2018_wgs-metagenomics/IGF109735/1_S1_L001_R1_001.fastq.gz: OK\n",
      "original_data/IGFQ000535_hoyles_12-6-2018_wgs-metagenomics/IGF109735/1_S1_L001_R2_001.fastq.gz: OK\n",
      "original_data/IGFQ000535_hoyles_12-6-2018_wgs-metagenomics/IGF109736/2_S2_L001_R1_001.fastq.gz: OK\n",
      "original_data/IGFQ000535_hoyles_12-6-2018_wgs-metagenomics/IGF109736/2_S2_L001_R2_001.fastq.gz: OK\n",
      "original_data/IGFQ000535_hoyles_12-6-2018_wgs-metagenomics/IGF109737/3_S3_L001_R1_001.fastq.gz: OK\n",
      "original_data/IGFQ000535_hoyles_12-6-2018_wgs-metagenomics/IGF109737/3_S3_L001_R2_001.fastq.gz: OK\n",
      "original_data/IGFQ000535_hoyles_12-6-2018_wgs-metagenomics/IGF109738/10BHS00459_S1_L002_R1_001.fastq.gz: OK\n",
      "original_data/IGFQ000535_hoyles_12-6-2018_wgs-metagenomics/IGF109738/10BHS00459_S1_L002_R2_001.fastq.gz: OK\n",
      "original_data/IGFQ000535_hoyles_12-6-2018_wgs-metagenomics/IGF109739/10BHS00654_S2_L002_R1_001.fastq.gz: OK\n",
      "original_data/IGFQ000535_hoyles_12-6-2018_wgs-metagenomics/IGF109739/10BHS00654_S2_L002_R2_001.fastq.gz: OK\n",
      "original_data/IGFQ000535_hoyles_12-6-2018_wgs-metagenomics/IGF109740/10BHS00845_S3_L002_R1_001.fastq.gz: OK\n",
      "original_data/IGFQ000535_hoyles_12-6-2018_wgs-metagenomics/IGF109740/10BHS00845_S3_L002_R2_001.fastq.gz: OK\n",
      "original_data/IGFQ000535_hoyles_12-6-2018_wgs-metagenomics/IGF109741/Mock1_S1_L003_R1_001.fastq.gz: OK\n",
      "original_data/IGFQ000535_hoyles_12-6-2018_wgs-metagenomics/IGF109741/Mock1_S1_L003_R2_001.fastq.gz: OK\n"
     ]
    }
   ],
   "source": [
    "manifests=glob.glob(\"original_data/*manifest.csv\")\n",
    "checkfile=open('md5sums.txt','w')\n",
    "for manifest in manifests:\n",
    "    f=open(manifest,'r')\n",
    "    for line in f:\n",
    "        if not 'file_path' in line:\n",
    "            fields=line.split(\"\\t\")\n",
    "            file=fields[0]\n",
    "            md5sum=fields[1]\n",
    "            checkfile.write(\"%s *original_data/%s\\n\" % (md5sum,file))\n",
    "    f.close()\n",
    "checkfile.close()\n",
    "\n",
    "result=subprocess.run(['md5sum','-c','md5sums.txt'],stdout=subprocess.PIPE,stderr=subprocess.PIPE)\n",
    "sys.stdout.write(result.stdout.decode('utf-8'))\n",
    "sys.stderr.write(result.stderr.decode('utf-8'))"
   ]
  },
  {
   "cell_type": "markdown",
   "metadata": {},
   "source": [
    "## QC analysis\n",
    "\n",
    "The dag-wf-qc-pe workflow will do a QC process for us...First need to co-erce the files into having sensible names.\n",
    "\n",
    "From Mikes' email:\n",
    "\n",
    "* IGFQ000535_hoyles_12-6-2018_wgs-metagenomics_1_16_2019-04-10.tar - Three poos\n",
    "* IGFQ000535_hoyles_12-6-2018_wgs-metagenomics_2_16_2019-04-10.tar - Three lungs\n",
    "* IGFQ000535_hoyles_12-6-2018_wgs-metagenomics_3_16_2019-04-10.tar - Mock1\n",
    "* IGFQ000535_hoyles_12-6-2018_wgs-metagenomics_4_16_2019-04-10.tar - Mock2\n",
    "* IGFQ000535_hoyles_12-6-2018_wgs-metagenomics_5_16_2019-04-10.tar - Mock3\n",
    "\n",
    "The sample sheets show the samples as follows:\n",
    "\n",
    "* IGFQ000535_hoyles_12-6-2018_wgs-metagenomics_1_16_2019-04-10_SampleSheet.csv: IGF109735, IGF109736, IGF109737\n",
    "* IGFQ000535_hoyles_12-6-2018_wgs-metagenomics_2_16_2019-04-10_SampleSheet.csv: IGF109738, IGF109739, IGF109740\n",
    "* IGFQ000535_hoyles_12-6-2018_wgs-metagenomics_3_16_2019-04-10_SampleSheet.csv: IGF109741\n",
    "* IGFQ000535_hoyles_12-6-2018_wgs-metagenomics_4_16_2019-04-10_SampleSheet.csv: IGF109742\n",
    "* IGFQ000535_hoyles_12-6-2018_wgs-metagenomics_5_16_2019-04-10_SampleSheet.csv: IGF109743\n",
    "\n",
    "A mapping file for renaming to was manually created:\n"
   ]
  },
  {
   "cell_type": "code",
   "execution_count": 4,
   "metadata": {},
   "outputs": [
    {
     "name": "stdout",
     "output_type": "stream",
     "text": [
      "original_data/IGFQ000535_hoyles_12-6-2018_wgs-metagenomics/IGF109735/1_S1_L001_R1_001.fastq.gz\tgut1\t1\n",
      "original_data/IGFQ000535_hoyles_12-6-2018_wgs-metagenomics/IGF109735/1_S1_L001_R2_001.fastq.gz\tgut1\t2\n",
      "original_data/IGFQ000535_hoyles_12-6-2018_wgs-metagenomics/IGF109736/2_S2_L001_R1_001.fastq.gz\tgut2\t1\n",
      "original_data/IGFQ000535_hoyles_12-6-2018_wgs-metagenomics/IGF109736/2_S2_L001_R2_001.fastq.gz\tgut2\t2\n",
      "original_data/IGFQ000535_hoyles_12-6-2018_wgs-metagenomics/IGF109737/3_S3_L001_R1_001.fastq.gz\tgut3\t1\n",
      "original_data/IGFQ000535_hoyles_12-6-2018_wgs-metagenomics/IGF109737/3_S3_L001_R2_001.fastq.gz\tgut3\t2\n",
      "original_data/IGFQ000535_hoyles_12-6-2018_wgs-metagenomics/IGF109738/10BHS00459_S1_L002_R1_001.fastq.gz\tlung1\t1\n",
      "original_data/IGFQ000535_hoyles_12-6-2018_wgs-metagenomics/IGF109738/10BHS00459_S1_L002_R2_001.fastq.gz\tlung1\t2\n",
      "original_data/IGFQ000535_hoyles_12-6-2018_wgs-metagenomics/IGF109739/10BHS00654_S2_L002_R1_001.fastq.gz\tlung2\t1\n",
      "original_data/IGFQ000535_hoyles_12-6-2018_wgs-metagenomics/IGF109739/10BHS00654_S2_L002_R2_001.fastq.gz\tlung2\t2\n",
      "original_data/IGFQ000535_hoyles_12-6-2018_wgs-metagenomics/IGF109740/10BHS00845_S3_L002_R1_001.fastq.gz\tlung3\t1\n",
      "original_data/IGFQ000535_hoyles_12-6-2018_wgs-metagenomics/IGF109740/10BHS00845_S3_L002_R2_001.fastq.gz\tlung3\t2\n",
      "original_data/IGFQ000535_hoyles_12-6-2018_wgs-metagenomics/IGF109741/Mock1_S1_L003_R1_001.fastq.gz\tmock1\t1\n",
      "original_data/IGFQ000535_hoyles_12-6-2018_wgs-metagenomics/IGF109741/Mock1_S1_L003_R2_001.fastq.gz\tmock1\t2\n",
      "original_data/IGFQ000535_hoyles_12-6-2018_wgs-metagenomics/IGF109742/Mock2_S1_L004_R1_001.fastq.gz\tmock2\t1\n",
      "original_data/IGFQ000535_hoyles_12-6-2018_wgs-metagenomics/IGF109742/Mock2_S1_L004_R2_001.fastq.gz\tmock2\t2\n",
      "original_data/IGFQ000535_hoyles_12-6-2018_wgs-metagenomics/IGF109743/Mock3_S1_L005_R1_001.fastq.gz\tmock3\t1\n",
      "original_data/IGFQ000535_hoyles_12-6-2018_wgs-metagenomics/IGF109743/Mock3_S1_L005_R2_001.fastq.gz\tmock3\t2\n"
     ]
    }
   ],
   "source": [
    "%%bash \n",
    "cat mapping.txt"
   ]
  },
  {
   "cell_type": "code",
   "execution_count": null,
   "metadata": {},
   "outputs": [],
   "source": [
    "%%bash\n",
    "printf \"y\\n\"|dag-wf-rename-fastq -i . -o new_fastq -m mapping.txt"
   ]
  },
  {
   "cell_type": "code",
   "execution_count": 8,
   "metadata": {},
   "outputs": [
    {
     "name": "stdout",
     "output_type": "stream",
     "text": [
      "Creating dag-wf-qc-pe conda environment\n",
      "Collecting package metadata: ...working... done\n",
      "Solving environment: ...working... done\n",
      "\n",
      "Downloading and Extracting Packages\n",
      "libcblas-3.8.0       | 6 KB      | ########## | 100% \n",
      "libblas-3.8.0        | 6 KB      | ########## | 100% \n",
      "spectra-0.0.11       | 19 KB     | ########## | 100% \n",
      "xopen-0.6.0          | 11 KB     | ########## | 100% \n",
      "liblapack-3.8.0      | 6 KB      | ########## | 100% \n",
      "Preparing transaction: ...working... done\n",
      "Verifying transaction: ...working... done\n",
      "Executing transaction: ...working... done\n",
      "#\n",
      "# To activate this environment, use\n",
      "#\n",
      "#     $ conda activate dag-wf-qc-pe\n",
      "#\n",
      "# To deactivate an active environment, use\n",
      "#\n",
      "#     $ conda deactivate\n",
      "\n",
      "\n",
      "Setting up qc-pe workflow in QC...\n",
      "\n",
      "\n",
      "Populating QC/fastq directory with data files...\n",
      "\n",
      "\t/homes/jabbott/Projects/Marmalade/fastq/gut1_1.fq.gz -> QC/fastq/gut1_1.fq.gz\n",
      "\t/homes/jabbott/Projects/Marmalade/fastq/gut1_2.fq.gz -> QC/fastq/gut1_2.fq.gz\n",
      "\t/homes/jabbott/Projects/Marmalade/fastq/gut2_1.fq.gz -> QC/fastq/gut2_1.fq.gz\n",
      "\t/homes/jabbott/Projects/Marmalade/fastq/gut2_2.fq.gz -> QC/fastq/gut2_2.fq.gz\n",
      "\t/homes/jabbott/Projects/Marmalade/fastq/gut3_1.fq.gz -> QC/fastq/gut3_1.fq.gz\n",
      "\t/homes/jabbott/Projects/Marmalade/fastq/gut3_2.fq.gz -> QC/fastq/gut3_2.fq.gz\n",
      "\t/homes/jabbott/Projects/Marmalade/fastq/lung1_1.fq.gz -> QC/fastq/lung1_1.fq.gz\n",
      "\t/homes/jabbott/Projects/Marmalade/fastq/lung1_2.fq.gz -> QC/fastq/lung1_2.fq.gz\n",
      "\t/homes/jabbott/Projects/Marmalade/fastq/lung2_1.fq.gz -> QC/fastq/lung2_1.fq.gz\n",
      "\t/homes/jabbott/Projects/Marmalade/fastq/lung2_2.fq.gz -> QC/fastq/lung2_2.fq.gz\n",
      "\t/homes/jabbott/Projects/Marmalade/fastq/lung3_1.fq.gz -> QC/fastq/lung3_1.fq.gz\n",
      "\t/homes/jabbott/Projects/Marmalade/fastq/lung3_2.fq.gz -> QC/fastq/lung3_2.fq.gz\n",
      "\t/homes/jabbott/Projects/Marmalade/fastq/mock1_1.fq.gz -> QC/fastq/mock1_1.fq.gz\n",
      "\t/homes/jabbott/Projects/Marmalade/fastq/mock1_2.fq.gz -> QC/fastq/mock1_2.fq.gz\n",
      "\t/homes/jabbott/Projects/Marmalade/fastq/mock2_1.fq.gz -> QC/fastq/mock2_1.fq.gz\n",
      "\t/homes/jabbott/Projects/Marmalade/fastq/mock2_2.fq.gz -> QC/fastq/mock2_2.fq.gz\n",
      "\t/homes/jabbott/Projects/Marmalade/fastq/mock3_1.fq.gz -> QC/fastq/mock3_1.fq.gz\n",
      "\t/homes/jabbott/Projects/Marmalade/fastq/mock3_2.fq.gz -> QC/fastq/mock3_2.fq.gz\n",
      "\n",
      "Please inspect the Snakefile in the 'QC' directory and modify as required.\n",
      "The workflow can be run by running 'cd QC; dag-wf-run'\n"
     ]
    }
   ],
   "source": [
    "%%bash\n",
    "\n",
    "dag-wf-setup -w qc-pe -i fastq -d QC -n Marmalade_QC"
   ]
  },
  {
   "cell_type": "markdown",
   "metadata": {},
   "source": [
    "The Snakefile was updated to increase the minimum read length to retain in trimming:\n",
    "\n",
    "```\n",
    "# Unpaired read length cutoff for retention of read 1 (--length_1)\n",
    "tg_params['R1_retain']=70\n",
    "# Unpaired read length cutoff for retention of read 2 (--length_2)\n",
    "tg_params['R2_retain']=70\n",
    "```"
   ]
  },
  {
   "cell_type": "code",
   "execution_count": null,
   "metadata": {},
   "outputs": [],
   "source": [
    "%%bash\n",
    "cd QC\n",
    "dag-wf-run"
   ]
  },
  {
   "cell_type": "markdown",
   "metadata": {},
   "source": [
    "![QC/dag.svg](QC/dag.svg)"
   ]
  },
  {
   "cell_type": "code",
   "execution_count": null,
   "metadata": {},
   "outputs": [],
   "source": []
  }
 ],
 "metadata": {
  "kernelspec": {
   "display_name": "Python [conda env:dag-wf]",
   "language": "python",
   "name": "conda-env-dag-wf-py"
  },
  "language_info": {
   "codemirror_mode": {
    "name": "ipython",
    "version": 3
   },
   "file_extension": ".py",
   "mimetype": "text/x-python",
   "name": "python",
   "nbconvert_exporter": "python",
   "pygments_lexer": "ipython3",
   "version": "3.6.8"
  }
 },
 "nbformat": 4,
 "nbformat_minor": 2
}
